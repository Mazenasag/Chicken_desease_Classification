{
 "cells": [
  {
   "cell_type": "code",
   "execution_count": 2,
   "metadata": {},
   "outputs": [],
   "source": [
    "import os"
   ]
  },
  {
   "cell_type": "code",
   "execution_count": 5,
   "metadata": {},
   "outputs": [
    {
     "data": {
      "text/plain": [
       "'e:\\\\Mlop\\\\End to end\\\\Chicken_desease_Classification_'"
      ]
     },
     "execution_count": 5,
     "metadata": {},
     "output_type": "execute_result"
    }
   ],
   "source": [
    "os.getcwd()"
   ]
  },
  {
   "cell_type": "code",
   "execution_count": null,
   "metadata": {},
   "outputs": [],
   "source": []
  },
  {
   "cell_type": "code",
   "execution_count": 4,
   "metadata": {},
   "outputs": [],
   "source": [
    "os.chdir(\"../\")"
   ]
  },
  {
   "cell_type": "code",
   "execution_count": null,
   "metadata": {},
   "outputs": [],
   "source": []
  },
  {
   "cell_type": "code",
   "execution_count": 6,
   "metadata": {},
   "outputs": [],
   "source": [
    "import tensorflow as tf"
   ]
  },
  {
   "cell_type": "code",
   "execution_count": 7,
   "metadata": {},
   "outputs": [],
   "source": [
    "model =(\"artifacts\\training\\model.keras\")"
   ]
  },
  {
   "cell_type": "code",
   "execution_count": 11,
   "metadata": {},
   "outputs": [],
   "source": [
    "from dataclasses import dataclass\n",
    "from pathlib import Path\n",
    "\n",
    "\n",
    "@dataclass(frozen=True)\n",
    "class EvaluationConfig:\n",
    "    path_of_model: Path    \n",
    "    training_data: Path      \n",
    "    all_parameters: dict  \n",
    "    params_image_size: list          \n",
    "    params_batch_size:int "
   ]
  },
  {
   "cell_type": "code",
   "execution_count": 10,
   "metadata": {},
   "outputs": [],
   "source": [
    "from cnnClassifier.constants import *\n",
    "from cnnClassifier.utils.common import read_yaml , create_directories ,save_json"
   ]
  },
  {
   "cell_type": "code",
   "execution_count": 12,
   "metadata": {},
   "outputs": [],
   "source": [
    "class ConfigurationManager:\n",
    "    def __init__(\n",
    "        self,\n",
    "        config_pathfile= CONFIG_FILE_PATH,\n",
    "        params_filepath= PARAMS_FILE_PATH):\n",
    "        self.config=read_yaml(config_pathfile) \n",
    "        self.params=read_yaml(params_filepath) \n",
    "        create_directories([self.config.artifacts_root])\n",
    "        \n",
    "        \n",
    "        \n",
    "    def get_validation_config(self) ->EvaluationConfig:\n",
    "        eval_config= EvaluationConfig(\n",
    "            path_of_model=\"artifacts/training/model.keras\",    \n",
    "            training_data=\"artifacts/data_ingestion/Chicken-fecal-images\",\n",
    "            all_parameters=self.params,  \n",
    "            params_image_size=self.params.IMAGE_SIZE,          \n",
    "            params_batch_size=self.params.BATCH_SIZE \n",
    "        )\n",
    "        \n",
    "        return eval_config"
   ]
  },
  {
   "cell_type": "code",
   "execution_count": 13,
   "metadata": {},
   "outputs": [],
   "source": [
    "from urllib.parse import urlparse"
   ]
  },
  {
   "cell_type": "code",
   "execution_count": 14,
   "metadata": {},
   "outputs": [],
   "source": [
    "class Evaluation:\n",
    "    def __init__(self, config: EvaluationConfig):\n",
    "        self.config = config\n",
    "\n",
    "    def _valid_generator(self):\n",
    "        # Prepare the validation data generator with image rescaling and validation split\n",
    "        datagenerator_kwargs = dict(rescale=1. / 255, validation_split=0.30)\n",
    "        \n",
    "        # Additional parameters for the dataflow\n",
    "        dataflow_kwargs = dict(\n",
    "            target_size=self.config.params_image_size[:-1],  # Resize images to target size (excluding channels)\n",
    "            batch_size=self.config.params_batch_size,  # Batch size from config\n",
    "            interpolation=\"bilinear\"  # Interpolation method for resizing images\n",
    "        )\n",
    "\n",
    "        # Initialize the ImageDataGenerator for validation\n",
    "        valid_datagenerator = tf.keras.preprocessing.image.ImageDataGenerator(**datagenerator_kwargs)\n",
    "\n",
    "        # Create a validation data generator by loading images from the directory\n",
    "        self.valid_generator = valid_datagenerator.flow_from_directory(\n",
    "            directory=str(self.config.training_data),  # Directory for training data\n",
    "            subset=\"validation\",  # We are only using the validation subset\n",
    "            shuffle=False,  # Don't shuffle to maintain consistency during evaluation\n",
    "            **dataflow_kwargs  # Apply the dataflow arguments for resizing, batch size, etc.\n",
    "        )\n",
    "\n",
    "    @staticmethod\n",
    "    def load_model(path: Path) -> tf.keras.Model:\n",
    "        # Load a pre-trained model from the given path\n",
    "        return tf.keras.models.load_model(path)\n",
    "\n",
    "    def evaluation(self):\n",
    "        # Load the model to be evaluated\n",
    "        self.model = self.load_model(self.config.path_of_model)  # Corrected to use `load_model` method\n",
    "        self._valid_generator()  # Prepare the validation data generator\n",
    "        self.score = self.model.evaluate(self.valid_generator)  # Evaluate the model on the validation data\n",
    "\n",
    "    def save_score(self):\n",
    "        # Save the evaluation scores (loss and accuracy) into a JSON file\n",
    "        scores = {'loss': self.score[0], \"accuracy\": self.score[1]}  # Fix the reference to `score[1]` for accuracy\n",
    "        save_json(path=Path(\"scores.json\"), data=scores)  # Save the scores to a JSON file\n"
   ]
  },
  {
   "cell_type": "code",
   "execution_count": 15,
   "metadata": {},
   "outputs": [
    {
     "name": "stdout",
     "output_type": "stream",
     "text": [
      "[2025-02-27 01:30:03,810] common.py - 31 root - INFO - yaml file: config\\config.yaml loaded successfully\n",
      "[2025-02-27 01:30:03,825] common.py - 31 root - INFO - yaml file: params.yaml loaded successfully\n",
      "[2025-02-27 01:30:03,829] common.py - 50 root - INFO - created directory at: artifacts\n",
      "Found 116 images belonging to 2 classes.\n"
     ]
    },
    {
     "name": "stderr",
     "output_type": "stream",
     "text": [
      "c:\\Users\\User\\anaconda3\\envs\\chick\\lib\\site-packages\\keras\\src\\trainers\\data_adapters\\py_dataset_adapter.py:121: UserWarning: Your `PyDataset` class should call `super().__init__(**kwargs)` in its constructor. `**kwargs` can include `workers`, `use_multiprocessing`, `max_queue_size`. Do not pass these arguments to `fit()`, as they will be ignored.\n",
      "  self._warn_if_super_not_called()\n"
     ]
    },
    {
     "name": "stdout",
     "output_type": "stream",
     "text": [
      "\u001b[1m8/8\u001b[0m \u001b[32m━━━━━━━━━━━━━━━━━━━━\u001b[0m\u001b[37m\u001b[0m \u001b[1m40s\u001b[0m 5s/step - accuracy: 0.7504 - loss: 1.5845\n",
      "[2025-02-27 01:30:47,620] common.py - 64 root - INFO - json file saved at: scores.json\n"
     ]
    }
   ],
   "source": [
    "try:\n",
    "    config= ConfigurationManager()\n",
    "    val_config =config.get_validation_config()\n",
    "    evaluation =Evaluation(val_config)\n",
    "    evaluation.evaluation()\n",
    "    evaluation.save_score()\n",
    "    \n",
    "except Exception as e:\n",
    "    raise e    "
   ]
  },
  {
   "cell_type": "code",
   "execution_count": null,
   "metadata": {},
   "outputs": [],
   "source": []
  },
  {
   "cell_type": "code",
   "execution_count": null,
   "metadata": {},
   "outputs": [],
   "source": [
    "# import tensorflow as tf\n",
    "# from pathlib import Path\n",
    "# import json\n",
    "\n",
    "# class Evaluation:\n",
    "#     def __init__(self, config):\n",
    "#         \"\"\"\n",
    "#         Initializes the Evaluation class with the given config.\n",
    "        \n",
    "#         Args:\n",
    "#             config (EvaluationConfig): Configuration object containing paths and parameters.\n",
    "#         \"\"\"\n",
    "#         self.config = config\n",
    "#         self.model = None  # Placeholder for model\n",
    "#         self.valid_generator = None  # Placeholder for validation generator\n",
    "#         self.score = None  # Placeholder for evaluation scores\n",
    "\n",
    "#     def _valid_generator(self):\n",
    "#         \"\"\"\n",
    "#         Creates the validation data generator using ImageDataGenerator.\n",
    "#         \"\"\"\n",
    "#         datagenerator_kwargs = dict(rescale=1./255, validation_split=0.30)\n",
    "#         dataflow_kwargs = dict(\n",
    "#             target_size=self.config.params_image_size[:-1],  # Resize images\n",
    "#             batch_size=self.config.params_batch_size,  # Process images in batches\n",
    "#             interpolation=\"bilinear\"  # Use bilinear interpolation for resizing\n",
    "#         )\n",
    "        \n",
    "#         # Initialize ImageDataGenerator\n",
    "#         valid_datagenerator = tf.keras.preprocessing.image.ImageDataGenerator(**datagenerator_kwargs)\n",
    "\n",
    "#         # Create validation data generator\n",
    "#         self.valid_generator = valid_datagenerator.flow_from_directory(\n",
    "#             directory=str(self.config.training_data),  # Training data directory\n",
    "#             subset=\"validation\",  # Use the validation subset (30% of data)\n",
    "#             shuffle=False,  # Keep the same order for validation\n",
    "#             **dataflow_kwargs\n",
    "#         )\n",
    "\n",
    "#     @staticmethod\n",
    "#     def load_model(path: Path) -> tf.keras.Model:\n",
    "#         \"\"\"\n",
    "#         Loads a pre-trained model from a given path.\n",
    "        \n",
    "#         Args:\n",
    "#             path (Path): Path to the saved model file.\n",
    "        \n",
    "#         Returns:\n",
    "#             tf.keras.Model: Loaded Keras model.\n",
    "#         \"\"\"\n",
    "#         return tf.keras.models.load_model(path)\n",
    "\n",
    "#     def evaluation(self):\n",
    "#         \"\"\"\n",
    "#         Loads the model and evaluates it on the validation dataset.\n",
    "#         \"\"\"\n",
    "#         # Load the model correctly\n",
    "#         self.model = Evaluation.load_model(self.config.path_of_model)\n",
    "\n",
    "#         # Generate the validation data\n",
    "#         self._valid_generator()\n",
    "\n",
    "#         # Evaluate the model on validation data\n",
    "#         self.score = self.model.evaluate(self.valid_generator)  # Fixed reference to model\n",
    "\n",
    "#     def save_score(self):\n",
    "#         \"\"\"\n",
    "#         Saves the evaluation scores (loss & accuracy) in a JSON file.\n",
    "#         \"\"\"\n",
    "#         scores = {\n",
    "#             'loss': self.score[0],  # First value is loss\n",
    "#             'accuracy': self.score[1]  # Second value is accuracy\n",
    "#         }\n",
    "\n",
    "#         # Save the scores to a JSON file\n",
    "#         with open(\"scores.json\", \"w\") as f:\n",
    "#             json.dump(scores, f, indent=4)  # Write scores as JSON\n"
   ]
  }
 ],
 "metadata": {
  "kernelspec": {
   "display_name": "chick",
   "language": "python",
   "name": "python3"
  },
  "language_info": {
   "codemirror_mode": {
    "name": "ipython",
    "version": 3
   },
   "file_extension": ".py",
   "mimetype": "text/x-python",
   "name": "python",
   "nbconvert_exporter": "python",
   "pygments_lexer": "ipython3",
   "version": "3.10.16"
  }
 },
 "nbformat": 4,
 "nbformat_minor": 2
}
